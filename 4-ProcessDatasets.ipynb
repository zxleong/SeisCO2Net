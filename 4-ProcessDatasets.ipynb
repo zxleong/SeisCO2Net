{
 "cells": [
  {
   "cell_type": "code",
   "execution_count": 5,
   "metadata": {},
   "outputs": [],
   "source": [
    "import numpy as np\n",
    "import matplotlib.pyplot as plt\n",
    "import os\n",
    "import math\n",
    "import scipy.io as sio\n",
    "from scipy.interpolate import interp2d\n",
    "import rppy\n",
    "import torch\n",
    "import torchvision\n",
    "from scipy.ndimage import gaussian_filter\n"
   ]
  },
  {
   "cell_type": "markdown",
   "metadata": {},
   "source": [
    "#### Upsample, and adjust geometry of Vp and CO2 Maps"
   ]
  },
  {
   "cell_type": "code",
   "execution_count": 4,
   "metadata": {},
   "outputs": [],
   "source": [
    "def to_np(input):\n",
    "    return input.detach().cpu().numpy()"
   ]
  },
  {
   "cell_type": "code",
   "execution_count": null,
   "metadata": {},
   "outputs": [],
   "source": [
    "## Load background velocity model of Frio2\n",
    "fvel = sio.loadmat('data/general/Frio2_bg_vel.mat')['velocityModel']\n",
    "#Load vel\n",
    "vp_all = np.load('data/general/vp_all.npy')\n",
    "#Load co2\n",
    "co2_arr =np.load('data/general/co2_all.npy')\n",
    "\n",
    "\n",
    "Co2Ready = []\n",
    "VelReady = []\n",
    "AttnReady = []\n",
    "for ireal in range(40):\n",
    "    tempv = []\n",
    "    tempq = []\n",
    "    tempco2 = []\n",
    "    for it in range(39): # from 9 to 47\n",
    "    \n",
    "        #sample CO2\n",
    "        sample_co2 = co2_arr[ireal,it] \n",
    "        \n",
    "        #Velocity P\n",
    "        sample_vel = vp_all[ireal,it] * 1000\n",
    "        sample_vel[abs(sample_vel)<1e-4] = 0\n",
    "        \n",
    "        #Adjust height and width of plume\n",
    "        odx = 1.5; odz = 1.5\n",
    "        ndx = 0.15; ndz = 0.25\n",
    "        orix = np.arange(0,48*odx,odx)\n",
    "        oriz = np.arange(0,45*odz,odz)\n",
    "        newx = np.arange(0,48*odx,ndx)\n",
    "        newz = np.arange(0,45*odz,ndz)\n",
    "        f4vel = interp2d(orix,oriz,sample_vel,kind='linear')\n",
    "        f4co2 = interp2d(orix,oriz,sample_co2,kind='linear')\n",
    "        intpz_vel = f4vel(newx,newz)\n",
    "        intpz_co2 = f4co2(newx,newz)\n",
    "        \n",
    "        #rotate\n",
    "        pyt_intpz_vel = torch.tensor(intpz_vel)[None,None,:,:]\n",
    "        pyt_intpz_co2 = torch.tensor(intpz_co2)[None,None,:,:]\n",
    "        r_vel = torchvision.transforms.functional.rotate(pyt_intpz_vel,9,fill=0)\n",
    "        r_co2 = torchvision.transforms.functional.rotate(pyt_intpz_co2,9,fill=0)\n",
    "        rintpz_vel = to_np(r_vel)[0,0]\n",
    "        rintpz_co2 = to_np(r_co2)[0,0]\n",
    "        \n",
    "        #crop to same size\n",
    "        onz = 434\n",
    "        onx = 467\n",
    "        newtile_vel = np.zeros((onz,onx))\n",
    "        newtile_co2 = np.zeros((onz,onx))\n",
    "        newtile_vel[:rintpz_vel.shape[0],:rintpz_vel.shape[1]] = rintpz_vel[:onz,:onx]\n",
    "        newtile_co2[:rintpz_co2.shape[0],:rintpz_co2.shape[1]] = rintpz_co2[:onz,:onx]\n",
    "        \n",
    "        #move things up/down  \n",
    "        length2move = 103\n",
    "        pad = np.zeros((length2move,onx))\n",
    "        newtile_vel = np.concatenate((pad,newtile_vel),axis=0)\n",
    "        newtile_vel = newtile_vel[:onz,:] \n",
    "        newtile_co2 = np.concatenate((pad,newtile_co2),axis=0)\n",
    "        newtile_co2 = newtile_co2[:onz,:] \n",
    "        \n",
    "        #Patch to background model\n",
    "        velmod = fvel.copy()\n",
    "        velmod = velmod + newtile_vel\n",
    "        \n",
    "        #background Q\n",
    "        bgQ = np.ones((434,467)) * 1000\n",
    "    \n",
    "        #Reservoir Q\n",
    "        # vc = fvel.copy()\n",
    "        gradient = -0.32\n",
    "        yStarting = 283 #283 is where the reservoir is\n",
    "        thickness = 90 #thickness of reservoir\n",
    "        for j in range(yStarting,yStarting+thickness+1): \n",
    "            for i in range(467): \n",
    "                new_y = round((gradient * i) +j);\n",
    "                bgQ[new_y,i] = 50\n",
    "        \n",
    "        #Plume Q\n",
    "        plume_mask = abs(newtile_vel) > 0.05\n",
    "        bgQ[plume_mask] = 25\n",
    "        \n",
    "        tempv.append(velmod)\n",
    "        tempq.append(bgQ)\n",
    "        tempco2.append(newtile_co2)\n",
    "    tempv = np.array(tempv)\n",
    "    tempq = np.array(tempq)\n",
    "    tempco2 = np.array(tempco2)\n",
    "    \n",
    "    VelReady.append(tempv)\n",
    "    AttnReady.append(tempq)\n",
    "    Co2Ready.append(tempco2)\n",
    "    \n",
    "VelReady = np.array(VelReady)     \n",
    "AttnReady = np.array(AttnReady)     \n",
    "Co2Ready = np.array(Co2Ready)\n"
   ]
  },
  {
   "cell_type": "code",
   "execution_count": null,
   "metadata": {},
   "outputs": [],
   "source": [
    "# np.save('data/general/VelReady.npy',VelReady)\n",
    "# np.save('data/general/AttnReady.npy',AttnReady)\n",
    "# np.save('data/general/Co2Ready.npy',Co2Ready)"
   ]
  },
  {
   "cell_type": "markdown",
   "metadata": {},
   "source": [
    "#### Crop CO2 maps and Vel maps to match source and receiver geometry"
   ]
  },
  {
   "cell_type": "code",
   "execution_count": null,
   "metadata": {},
   "outputs": [],
   "source": [
    "Co2Ready = np.load('data/general/Co2Ready.npy')\n",
    "VelReady = np.load('data/general/VelReady.npy')\n"
   ]
  },
  {
   "cell_type": "code",
   "execution_count": null,
   "metadata": {},
   "outputs": [],
   "source": [
    "### Crop CO2 Maps\n",
    "\n",
    "nx = 467\n",
    "nz = 434\n",
    "mask = np.zeros((nz,nx))\n",
    "#Top half\n",
    "xStarting = 132\n",
    "xthickness = 334-132\n",
    "c1 = 345.92\n",
    "gradient = -0.8069\n",
    "for i in range(xStarting,xStarting+xthickness):\n",
    "    target_y = round((gradient * i) + c1)\n",
    "    for j in range(239,target_y-1,-1): \n",
    "       mask[j,i] = 1\n",
    "#bottom half       \n",
    "xStarting = 132\n",
    "xthickness = 334-132\n",
    "c2 = 144.9\n",
    "gradient = 0.7129\n",
    "for i in range(xStarting,xStarting+xthickness):\n",
    "    target_y = round((gradient * i) + c2)\n",
    "    for j in range(target_y,239-1,-1): \n",
    "        mask[j,i] = 1\n",
    "\n",
    "smooth_mask = gaussian_filter(mask, 4)\n",
    "\n",
    "yTrain_CO2 = []\n",
    "for ireal in range(40):\n",
    "    temp=[]\n",
    "    for its in range(39):\n",
    "        sco2 = Co2Ready[ireal,its]\n",
    "        masked_co2 = smooth_mask*sco2\n",
    "        cropped_co2 = masked_co2[76:383,132:334]\n",
    "        temp.append(cropped_co2)\n",
    "    temp = np.array(temp)\n",
    "    yTrain_CO2.append(temp)\n",
    "yTrain_CO2 = np.array(yTrain_CO2)"
   ]
  },
  {
   "cell_type": "code",
   "execution_count": null,
   "metadata": {},
   "outputs": [],
   "source": [
    "##### I cropped the CO2 maps to (40,39,300,200) \n",
    "\n",
    "yTrain_CO2 = yTrain_CO2[:,:,7:,2:]"
   ]
  },
  {
   "cell_type": "code",
   "execution_count": null,
   "metadata": {},
   "outputs": [],
   "source": [
    "# np.save('data/co2maps/co2_maps.npy',yTrain_CO2)        "
   ]
  },
  {
   "cell_type": "markdown",
   "metadata": {},
   "source": [
    "#### Check"
   ]
  },
  {
   "cell_type": "code",
   "execution_count": 17,
   "metadata": {},
   "outputs": [],
   "source": [
    "yTrain_CO2 = np.load('data/co2maps/co2_maps.npy')\n"
   ]
  },
  {
   "cell_type": "code",
   "execution_count": 18,
   "metadata": {},
   "outputs": [
    {
     "name": "stdout",
     "output_type": "stream",
     "text": [
      "(40, 39, 300, 200)\n"
     ]
    }
   ],
   "source": [
    "print(yTrain_CO2.shape)\n"
   ]
  },
  {
   "cell_type": "code",
   "execution_count": 9,
   "metadata": {},
   "outputs": [
    {
     "data": {
      "text/plain": [
       "<matplotlib.collections.PathCollection at 0x21e9e9c41d0>"
      ]
     },
     "execution_count": 9,
     "metadata": {},
     "output_type": "execute_result"
    },
    {
     "data": {
      "image/png": "[encoded data removed]",
      "text/plain": [
       "<Figure size 640x480 with 1 Axes>"
      ]
     },
     "metadata": {},
     "output_type": "display_data"
    }
   ],
   "source": [
    "n1 = np.random.randint(40)\n",
    "n2 = np.random.randint(39)\n",
    "a = yTrain_CO2[n1,n2]\n",
    "plt.imshow(a,cmap='jet')\n",
    "plt.scatter(2,239-76-7,s=100,marker='*',color='white')\n",
    "plt.scatter(192,5,s=100,marker='^',color='black')\n",
    "plt.scatter(192,290,s=100,marker='^',color='black')\n"
   ]
  },
  {
   "cell_type": "code",
   "execution_count": 13,
   "metadata": {},
   "outputs": [
    {
     "name": "stdout",
     "output_type": "stream",
     "text": [
      "(40, 39, 434, 467)\n"
     ]
    }
   ],
   "source": [
    "AttnReady = np.load('data/general/AttnReady.npy')\n",
    "print(AttnReady.shape)\n"
   ]
  },
  {
   "cell_type": "code",
   "execution_count": null,
   "metadata": {},
   "outputs": [],
   "source": []
  },
  {
   "cell_type": "code",
   "execution_count": null,
   "metadata": {},
   "outputs": [],
   "source": []
  },
  {
   "cell_type": "code",
   "execution_count": null,
   "metadata": {},
   "outputs": [],
   "source": []
  },
  {
   "cell_type": "code",
   "execution_count": null,
   "metadata": {},
   "outputs": [],
   "source": []
  }
 ],
 "metadata": {
  "kernelspec": {
   "display_name": "MLenv",
   "language": "python",
   "name": "python3"
  },
  "language_info": {
   "codemirror_mode": {
    "name": "ipython",
    "version": 3
   },
   "file_extension": ".py",
   "mimetype": "text/x-python",
   "name": "python",
   "nbconvert_exporter": "python",
   "pygments_lexer": "ipython3",
   "version": "3.11.7"
  }
 },
 "nbformat": 4,
 "nbformat_minor": 2
}
